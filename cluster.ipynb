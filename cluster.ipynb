{
 "cells": [
  {
   "cell_type": "code",
   "execution_count": 1,
   "metadata": {},
   "outputs": [
    {
     "data": {
      "text/plain": [
       "{'id': 'YyeTbI0BvhpXKm_2q_Gr',\n",
       " 'name': 'cluster-test',\n",
       " 'api_key': 'ybnDkr2JSkeO3H90VFqP3Q',\n",
       " 'encoded': 'WXllVGJJMEJ2aHBYS21fMnFfR3I6eWJuRGtyMkpTa2VPM0g5MFZGcVAzUQ=='}"
      ]
     },
     "execution_count": 1,
     "metadata": {},
     "output_type": "execute_result"
    }
   ],
   "source": [
    "{\"id\":\"fUQYdo0BkjfViMQOJMTB\",\"name\":\"api_key\",\"api_key\":\"Thac402xRxCzabzQAbdjmg\",\"encoded\":\"ZlVRWWRvMEJramZWaU1RT0pNVEI6VGhhYzQwMnhSeEN6YWJ6UUFiZGptZw==\"}"
   ]
  },
  {
   "cell_type": "code",
   "execution_count": 41,
   "metadata": {},
   "outputs": [],
   "source": [
    "import warnings\n",
    "from elasticsearch import Elasticsearch\n",
    "#Es necesario importar las depencendias necesarias\n",
    "from datetime import date\n",
    "from datetime import datetime\n",
    "import pandas as pd\n",
    "\n",
    "# Ignore all warnings\n",
    "warnings.filterwarnings(\"ignore\")   \n",
    "\n",
    "#b=IJl=v-w67RsCZccMua\n",
    "\n",
    "class BackupRestore():\n",
    "\n",
    "    def __init__(self,es_host,es_user,es_password) -> None:    \n",
    "        # Elasticsearch configuration\n",
    "        self.es_host = es_host\n",
    "        self.es_user = es_user\n",
    "        self.es_password = es_password\n",
    "        self.es : None\n",
    "\n",
    "    def Connection(self):\n",
    "        self.es = Elasticsearch(hosts=[self.es_host], http_auth=(self.es_user, self.es_password), verify_certs=False)\n",
    "        \n",
    "\n",
    "    def create_repository(self,repository_name='my_fs_backup'):\n",
    "        \n",
    "    \n",
    "        # Snapshot repository settings\n",
    "        repository_type = 'fs'\n",
    "        repository_settings = {\n",
    "            \"location\": \"/usr/share/elasticsearch/backups\",\n",
    "            \"compress\": \"true\"\n",
    "        }\n",
    "\n",
    "        # Create a snapshot repository\n",
    "        response = self.es.snapshot.create_repository(repository_name, body={\n",
    "            \"type\": repository_type,\n",
    "            \"settings\": repository_settings\n",
    "        }, request_timeout=30)\n",
    "\n",
    "        print(response)\n",
    "\n",
    "    def create_index(self,name):\n",
    "        if name in self.es.indices.get('*').keys():\n",
    "            print(\"Este indice ya esta en uso, pruebe con otro\")\n",
    "        else:\n",
    "            print(\"Nuevo indice creado\")\n",
    "            self.es.indices.create(index=name)        \n",
    "\n",
    "    def list_indices(self):\n",
    "\n",
    "        indices = self.es.indices.get('*')\n",
    "        print(\"Indices:\")\n",
    "        print(indices.keys())\n",
    "\n",
    "    def insert_doc(self,index_name,doc):\n",
    "        \n",
    "        self.es.index(index_name,document=doc)\n",
    "\n",
    "    def list_snapshots(self):\n",
    "    # List snapshots\n",
    "        repository_name = 'my_fs_backup'\n",
    "        snapshot_repository = self.es.snapshot.get_repository(repository=repository_name)\n",
    "        snapshot_repository_name = snapshot_repository[repository_name]['type']\n",
    "\n",
    "        snapshots = self.es.snapshot.get(repository=repository_name, snapshot='_all')\n",
    "        print(\"Snapshots:\")\n",
    "        for snapshot in snapshots['snapshots']:\n",
    "            print(snapshot['snapshot'])\n",
    "\n",
    "    def list_repositories(self):\n",
    "        # List snapshot repositories\n",
    "        repositories = self.es.snapshot.get_repository()\n",
    "        print(\"Snapshot Repositories:\")\n",
    "        for repo_name in repositories:\n",
    "            print(repo_name)\n",
    "\n",
    "    def create_snapshot(self,index_name):\n",
    "\n",
    "\n",
    "        # Snapshot repository name\n",
    "        repository_name = 'my_fs_backup'\n",
    "\n",
    "        # Create a snapshot for the index\n",
    "        #Fecha actual\n",
    "        now = datetime.now()\n",
    "        fecha_split=str(now).split('.')[0].replace(':','-').split(' ')\n",
    "        snapshot_name = 'all-indices'+'-snapshot-'+fecha_split[0]+'-'+fecha_split[1]  # Replace with a suitable name for your snapshot\n",
    "        try:\n",
    "            response = self.es.snapshot.create(repository=repository_name, snapshot=snapshot_name, body={\n",
    "                \"indices\": index_name,\n",
    "                \"include_global_state\": False\n",
    "            }, request_timeout=300)\n",
    "\n",
    "            print(response)\n",
    "        except:\n",
    "            print('No existe tal índice')\n",
    "\n",
    "    def restore_snapshot(self,snapshot_name,index_name):\n",
    "\n",
    "        # Snapshot repository name\n",
    "        repository_name = 'my_fs_backup'\n",
    "        #self.create_repository()\n",
    "        # Close the index before restoring (optional)\n",
    "        try:\n",
    "            self.es.indices.close(index=index_name)\n",
    "        except:\n",
    "            pass\n",
    "\n",
    "\n",
    "        # Restore the snapshot\n",
    "        response = self.es.snapshot.restore(repository=repository_name, snapshot=snapshot_name, body={\n",
    "            \"indices\": index_name\n",
    "        }, request_timeout=300)\n",
    "\n",
    "        print(response)\n",
    "\n",
    "        # Reopen the index after restoring (optional)\n",
    "        try:\n",
    "            self.es.indices.open(index=index_name)\n",
    "        except:\n",
    "            pass\n",
    "\n",
    "    def Validation(self):\n",
    "        pass"
   ]
  },
  {
   "cell_type": "code",
   "execution_count": 55,
   "metadata": {},
   "outputs": [],
   "source": [
    "client=BackupRestore('https://localhost:9201/','elastic','elasticpass123',)"
   ]
  },
  {
   "cell_type": "code",
   "execution_count": 56,
   "metadata": {},
   "outputs": [],
   "source": [
    "client.Connection()"
   ]
  },
  {
   "cell_type": "code",
   "execution_count": 4,
   "metadata": {},
   "outputs": [
    {
     "name": "stdout",
     "output_type": "stream",
     "text": [
      "{'acknowledged': True}\n"
     ]
    }
   ],
   "source": [
    "client.create_repository()"
   ]
  },
  {
   "cell_type": "code",
   "execution_count": 5,
   "metadata": {},
   "outputs": [
    {
     "name": "stdout",
     "output_type": "stream",
     "text": [
      "Snapshots:\n",
      "favorite_mangas_snapshot\n"
     ]
    }
   ],
   "source": [
    "client.list_snapshots()"
   ]
  },
  {
   "cell_type": "code",
   "execution_count": 6,
   "metadata": {},
   "outputs": [
    {
     "name": "stdout",
     "output_type": "stream",
     "text": [
      "{'accepted': True}\n"
     ]
    }
   ],
   "source": [
    "client.restore_snapshot('favorite_mangas_snapshot','favorite_mangas')"
   ]
  },
  {
   "cell_type": "code",
   "execution_count": 49,
   "metadata": {},
   "outputs": [],
   "source": [
    "client2=BackupRestore('https://localhost:9202/','cluster_user','mypass',)"
   ]
  },
  {
   "cell_type": "code",
   "execution_count": 50,
   "metadata": {},
   "outputs": [],
   "source": [
    "client2.Connection()"
   ]
  },
  {
   "cell_type": "code",
   "execution_count": 53,
   "metadata": {},
   "outputs": [
    {
     "name": "stdout",
     "output_type": "stream",
     "text": [
      "{'accepted': True}\n"
     ]
    }
   ],
   "source": [
    "client2.restore_snapshot('all-indices-snapshot-2024-02-04-17-03-13','index_from_9203')"
   ]
  },
  {
   "cell_type": "code",
   "execution_count": 61,
   "metadata": {},
   "outputs": [],
   "source": [
    "result=client.es.search(index='index_from_9203',body={'query':{'match_all':{}}})"
   ]
  },
  {
   "cell_type": "code",
   "execution_count": 62,
   "metadata": {},
   "outputs": [
    {
     "data": {
      "text/plain": [
       "{'took': 808,\n",
       " 'timed_out': False,\n",
       " '_shards': {'total': 1, 'successful': 1, 'skipped': 0, 'failed': 0},\n",
       " 'hits': {'total': {'value': 1, 'relation': 'eq'},\n",
       "  'max_score': 1.0,\n",
       "  'hits': [{'_index': 'index_from_9203',\n",
       "    '_id': 'rbYsdo0BjLl3Hs2YMmur',\n",
       "    '_score': 1.0,\n",
       "    '_source': {'inserted from': '9203'}}]}}"
      ]
     },
     "execution_count": 62,
     "metadata": {},
     "output_type": "execute_result"
    }
   ],
   "source": [
    "result"
   ]
  },
  {
   "cell_type": "code",
   "execution_count": 36,
   "metadata": {},
   "outputs": [
    {
     "data": {
      "text/plain": [
       "{'acknowledged': True, 'shards_acknowledged': True, 'index': 'index_from_9203'}"
      ]
     },
     "execution_count": 36,
     "metadata": {},
     "output_type": "execute_result"
    }
   ],
   "source": [
    "client2.es.indices.create(index='index_from_9203')"
   ]
  },
  {
   "cell_type": "code",
   "execution_count": 44,
   "metadata": {},
   "outputs": [
    {
     "name": "stdout",
     "output_type": "stream",
     "text": [
      "{'accepted': True}\n"
     ]
    }
   ],
   "source": [
    "client2.create_snapshot(['favorite_mangas','index_from_9203'])"
   ]
  },
  {
   "cell_type": "code",
   "execution_count": 59,
   "metadata": {},
   "outputs": [
    {
     "data": {
      "text/plain": [
       "{'_index': 'index_from_9203',\n",
       " '_id': 'rbYsdo0BjLl3Hs2YMmur',\n",
       " '_version': 1,\n",
       " 'result': 'created',\n",
       " '_shards': {'total': 2, 'successful': 2, 'failed': 0},\n",
       " '_seq_no': 0,\n",
       " '_primary_term': 2}"
      ]
     },
     "execution_count": 59,
     "metadata": {},
     "output_type": "execute_result"
    }
   ],
   "source": [
    "client2.es.index(index='index_from_9203',body={'inserted from':'9203'})"
   ]
  }
 ],
 "metadata": {
  "kernelspec": {
   "display_name": "Python 3",
   "language": "python",
   "name": "python3"
  },
  "language_info": {
   "codemirror_mode": {
    "name": "ipython",
    "version": 3
   },
   "file_extension": ".py",
   "mimetype": "text/x-python",
   "name": "python",
   "nbconvert_exporter": "python",
   "pygments_lexer": "ipython3",
   "version": "3.11.2"
  }
 },
 "nbformat": 4,
 "nbformat_minor": 2
}
